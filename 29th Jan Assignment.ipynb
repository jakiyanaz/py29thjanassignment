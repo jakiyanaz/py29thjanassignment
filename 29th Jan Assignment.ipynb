{
 "cells": [
  {
   "cell_type": "markdown",
   "id": "613c33b7-f89e-470e-93ba-b6b57576277f",
   "metadata": {},
   "source": [
    "Q1. Who developed python programming language?"
   ]
  },
  {
   "cell_type": "markdown",
   "id": "701096e9-d8f3-4285-ac5a-b907a0af58ee",
   "metadata": {},
   "source": [
    "Ans: Guido van Rossum"
   ]
  },
  {
   "cell_type": "markdown",
   "id": "c8854cf7-4431-4899-b979-511993347df7",
   "metadata": {},
   "source": [
    "Q2. which type of programming does python support?"
   ]
  },
  {
   "cell_type": "markdown",
   "id": "0e9c4251-5ab3-4edf-8552-a9f4aac3c250",
   "metadata": {},
   "source": [
    "Ans: Object-oriented programming and structured programming are fully supported in python."
   ]
  },
  {
   "cell_type": "markdown",
   "id": "d120e879-5d94-4ec6-aef8-68641159cae0",
   "metadata": {},
   "source": [
    "Q3. Is python case sensitive while dealing with identifiers?"
   ]
  },
  {
   "cell_type": "markdown",
   "id": "0ed2a570-395a-4a9c-9f29-34db89f88184",
   "metadata": {},
   "source": [
    "Ans: Yes"
   ]
  },
  {
   "cell_type": "markdown",
   "id": "d18340c5-f93f-4bad-804e-b3eda5a0e5ec",
   "metadata": {},
   "source": [
    "Q4. What is the correct extension of the python file?"
   ]
  },
  {
   "cell_type": "markdown",
   "id": "112d6abc-b513-4520-b87d-4f9e109ae001",
   "metadata": {},
   "source": [
    "Ans: .py"
   ]
  },
  {
   "cell_type": "markdown",
   "id": "0d693242-561d-4019-aaab-a86b1d7c2a28",
   "metadata": {},
   "source": [
    "Q5. Is python code compiled or interpreted?"
   ]
  },
  {
   "cell_type": "markdown",
   "id": "cbccb68b-bd06-499c-8fa2-0c457a65a0aa",
   "metadata": {},
   "source": [
    "Ans: Interpreted"
   ]
  },
  {
   "cell_type": "markdown",
   "id": "f845d225-c7cb-40fb-84e9-d27d276a1005",
   "metadata": {},
   "source": [
    "Q6. Name a few block of codes used to define in python language."
   ]
  },
  {
   "cell_type": "markdown",
   "id": "38469746-ac19-4ec3-afea-156c83677d67",
   "metadata": {},
   "source": [
    "Ans: The following are blocks: \n",
    "    \n",
    "    a module, \n",
    "    \n",
    "    a function body, \n",
    "    \n",
    "    a class definition"
   ]
  },
  {
   "cell_type": "markdown",
   "id": "6f6f59c2-a677-43d0-9653-7f9d53d3fe8d",
   "metadata": {},
   "source": [
    "Q7. State a character used to give single line comments in python."
   ]
  },
  {
   "cell_type": "markdown",
   "id": "3b653955-a110-4959-92a8-e3efcafaf906",
   "metadata": {},
   "source": [
    "Ans: We can write a single-line comment by adding a single # character before any statement or line of code."
   ]
  },
  {
   "cell_type": "markdown",
   "id": "e5a95d67-7b8a-45f5-adbf-66d0e10c0eb4",
   "metadata": {},
   "source": [
    "Q8. Mention functions which can help us to find the version of python that we are currently working on."
   ]
  },
  {
   "cell_type": "markdown",
   "id": "6155ad55-82d4-4e07-9bbb-73d0017b6da7",
   "metadata": {},
   "source": [
    "Ans: The function sys. version can help us to find the version of python that we are currently working on."
   ]
  },
  {
   "cell_type": "markdown",
   "id": "9df60d25-5fad-4bd7-819c-b425194da851",
   "metadata": {},
   "source": [
    "Q9. Python supports the creation of anonymous functions at runtime using a construct called________."
   ]
  },
  {
   "cell_type": "markdown",
   "id": "a466975a-e92e-49f0-8643-4e4e7becf7f9",
   "metadata": {},
   "source": [
    "Ans: lambda"
   ]
  },
  {
   "cell_type": "markdown",
   "id": "4d783c62-d323-40a2-9259-dfc3b710a58a",
   "metadata": {},
   "source": [
    "Q10. What does pip stands for python?"
   ]
  },
  {
   "cell_type": "markdown",
   "id": "52611b58-e75d-4c8e-a336-228ae76bce59",
   "metadata": {},
   "source": [
    "Ans: Preferred Installer Program"
   ]
  },
  {
   "cell_type": "markdown",
   "id": "3e4dc257-0719-4030-9fdc-791bc4e446e2",
   "metadata": {},
   "source": [
    "Q11. Mention a few built in functions in python."
   ]
  },
  {
   "cell_type": "markdown",
   "id": "0edac0c8-dfb1-4b1f-8fa8-621be0f0200e",
   "metadata": {},
   "source": [
    "Ans: \n",
    "    \n",
    "    print( ) function\n",
    "    type( ) function\n",
    "    input( ) function\n",
    "    abs( ) function\n",
    "    pow( ) function\n",
    "    dir( ) function\n",
    "    sorted( ) function\n",
    "    max( ) function\n",
    "    round( ) function\n",
    "    divmod( ) function\n",
    "    id( ) function\n",
    "    ord( ) function\n",
    "    len( ) function\n",
    "    sum( ) function"
   ]
  },
  {
   "cell_type": "markdown",
   "id": "deaa6ffb-b2a3-4abd-bff5-1a6b634a3a99",
   "metadata": {},
   "source": [
    "Q12. What is the maximum possible length of identifier in python?"
   ]
  },
  {
   "cell_type": "markdown",
   "id": "b99d6940-cdf0-4f87-ba3b-97a5b7bdc312",
   "metadata": {},
   "source": [
    "Ans: An identifier can have a maximum length of 79 characters in Python. "
   ]
  },
  {
   "cell_type": "markdown",
   "id": "a3a269ab-04d4-4b6a-b1d2-8fdb4211cd18",
   "metadata": {},
   "source": [
    "Q13. What are the benifits of using python?"
   ]
  },
  {
   "cell_type": "markdown",
   "id": "46675474-4643-4e22-a22d-821d06c21e0b",
   "metadata": {},
   "source": [
    "Ans: \n",
    "\n",
    "    1. Presence of third-party modules \n",
    "    \n",
    "    2. Extensive support libraries(NumPy for numerical calculations, Pandas for data analytics, etc.) \n",
    "    \n",
    "    3. Open source and large active community base \n",
    "    \n",
    "    4. Versatile, Easy to read, learn and write\n",
    "    \n",
    "    5. User-friendly data structures \n",
    "    \n",
    "    6. High-level language \n",
    "    \n",
    "    7. Dynamically typed language(No need to mention data type based on the value assigned, it takes data type) \n",
    "    \n",
    "    8. Object-Oriented and Procedural  Programming language\n",
    "    \n",
    "    9. Portable and Interactive\n",
    "    \n",
    "    10. Ideal for prototypes – provide more functionality with less coding"
   ]
  },
  {
   "cell_type": "markdown",
   "id": "b30dc690-47b6-482c-80df-5a482ad142de",
   "metadata": {},
   "source": [
    "Q14. How is memory managed in python?"
   ]
  },
  {
   "cell_type": "markdown",
   "id": "c3f39a45-3ccf-4f00-8dd0-18f59bb6bfb3",
   "metadata": {},
   "source": [
    "Ans: Python uses the dynamic memory allocation which is managed by the Heap data structure. Memory Heap holds the objects and other data structures that will be used in the program. Python memory manager manages the allocation or de-allocation of the heap memory space through the API functions."
   ]
  },
  {
   "cell_type": "markdown",
   "id": "8d4bb7c3-ce27-4123-9e66-0977193a2ecf",
   "metadata": {},
   "source": [
    "Q15. How to install python in windows and set path variables?"
   ]
  },
  {
   "cell_type": "markdown",
   "id": "5fd0f05a-02e1-4bfd-918a-a2c3aa128ecc",
   "metadata": {},
   "source": [
    "Ans: \n",
    "    \n",
    "    1- Installing Python from Python.org\n",
    "Go on Python.org at the section where you can download the windows executables:\n",
    "\n",
    "https://www.python.org/downloads/windows/\n",
    "\n",
    "Go down in the page and download the following executable (if your computer is 64 bits):\n",
    "\n",
    "Windows x86-64 executable installer\n",
    "\n",
    "Double click on the executable and install it"
   ]
  },
  {
   "cell_type": "markdown",
   "id": "182a387c-6dc4-4ed6-bf10-f0cd77233ce5",
   "metadata": {},
   "source": [
    "2- \n",
    "\n",
    "Add Python 3 to the windows 10 environment variable path\n",
    "I will suppose that you didn’t check the “add python to the path” checkbox when you installed it.\n",
    "\n",
    "Let’s see now how to add this new python 3 version to the path\n",
    "\n",
    "By default, it installs in the path:\n",
    "\n",
    "C:\\Users\\cypri\\AppData\\Local\\Programs\\Python\n",
    "(cypri will be replaced by your windows user name of course…)\n",
    "\n",
    "This is not convenient, because AppData is a hidden folder and it may cause problems with some python modules such as jupyter if you leave it here\n",
    "\n",
    "Move is to C:/\n",
    "\n",
    "Change the name of the executable to python3.exe for convenience\n",
    "\n",
    "Let’s now edit the environment variables to add this new python 3 to the path:\n",
    "\n",
    "Add the 2 new variables as follow:\n",
    "\n",
    "C:\\Python38\\\n",
    "\n",
    "C:\\Python38\\Scripts\n",
    "\n",
    "then click on OK"
   ]
  },
  {
   "cell_type": "markdown",
   "id": "80d4a409-3335-416f-af9a-47f6d8386904",
   "metadata": {},
   "source": [
    "Q16. Is indentation required in python?"
   ]
  },
  {
   "cell_type": "code",
   "execution_count": null,
   "id": "1e670906-1af3-4933-b8a4-ed8aae186e83",
   "metadata": {},
   "outputs": [],
   "source": [
    "Ans: Yes"
   ]
  }
 ],
 "metadata": {
  "kernelspec": {
   "display_name": "Python 3 (ipykernel)",
   "language": "python",
   "name": "python3"
  },
  "language_info": {
   "codemirror_mode": {
    "name": "ipython",
    "version": 3
   },
   "file_extension": ".py",
   "mimetype": "text/x-python",
   "name": "python",
   "nbconvert_exporter": "python",
   "pygments_lexer": "ipython3",
   "version": "3.10.8"
  }
 },
 "nbformat": 4,
 "nbformat_minor": 5
}
